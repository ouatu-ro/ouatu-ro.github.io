{
 "cells": [
  {
   "cell_type": "markdown",
   "metadata": {},
   "source": [
    "---\n",
    "title: \"Terse Alternating Least Squares Implementation\"\n",
    "pubDate: 2022-08-07T02:53:16+02:00\n",
    "description: \"Alternating Least Squares is a matrix factorization algorithm commonly used in recommendation systems. This notebook provides a practical explanation with code examples.\"\n",
    "math: true\n",
    "---"
   ]
  },
  {
   "cell_type": "markdown",
   "metadata": {},
   "source": [
    "Recommendation systems are algorithms designed to suggest relevant items to users. They're behind many familiar features like Netflix movie recommendations or Amazon product suggestions.\n",
    "\n",
    "One common approach is _collaborative filtering_, which uses the past behavior of many users to make recommendations. Matrix factorization methods like ALS are powerful techniques for collaborative filtering."
   ]
  },
  {
   "cell_type": "markdown",
   "metadata": {},
   "source": [
    "## The Matrix Factorization Problem\n",
    "\n",
    "In recommendation systems, we typically have:\n",
    "\n",
    "- A set of users\n",
    "- A set of items\n",
    "- A sparse matrix of known ratings or interactions\n",
    "\n",
    "Let's call this sparse matrix $R$ where $R_{ui}$ represents user $u$'s rating for item $i$. Most entries in $R$ are unknown (missing).\n",
    "\n",
    "The goal of matrix factorization is to approximate $R$ as the product of two lower-dimensional matrices:\n",
    "\n",
    "$$ \n",
    "R \\approx U \\cdot V^T \n",
    "$$\n",
    "\n",
    "Where:\n",
    "$$\n",
    "\\begin{aligned}\n",
    "& U \\text{ is a user-feature matrix of shape } [\\text{num\\_users}, \\text{num\\_features}] \\\\\n",
    "& V \\text{ is an item-feature matrix of shape } [\\text{num\\_items}, \\text{num\\_features}]\n",
    "\\end{aligned}\n",
    "$$\n",
    "\n",
    "\n",
    "Each row of $U$ represents a user's latent feature vector, and each row of $V$ represents an item's latent feature vector."
   ]
  },
  {
   "cell_type": "markdown",
   "metadata": {},
   "source": [
    "### **Solving a Non-Convex Optimization Problem**\n",
    "\n",
    "To reiterate, we aim to approximate $R$ using two lower-rank matrices, capturing the latent structure in the data:\n",
    "\n",
    "$$\n",
    "\\min_{U, V} \\sum_{(u,i) \\in \\text{observed}} (R_{ui} - U_u V_i^T)^2\n",
    "$$\n",
    "\n",
    "This is a **non-convex optimization problem** because both $ U $ and $ V $ are unknown and multiply each other. **Simultaneously** optimizing both matrices would require solving a problem with multiple local minima, making direct gradient-based optimization difficult.\n",
    "\n",
    "### **Why ALS Works**\n",
    "Instead of solving for both $ U $ and $ V $ at once, **Alternating Least Squares (ALS)** breaks the problem into two **convex subproblems**:\n",
    "\n",
    "1. **Fix $ V $ and solve for $ U $**  \n",
    "2. **Fix $ U $ and solve for $ V $**  \n",
    "\n",
    "Since each of these steps is a standard **least squares problem**, they have a closed-form solution that can be computed efficiently.\n"
   ]
  },
  {
   "cell_type": "markdown",
   "metadata": {},
   "source": [
    "## Setting Up Our Example\n",
    "\n",
    "Let's create a small example with synthetic data to demonstrate ALS."
   ]
  },
  {
   "cell_type": "code",
   "execution_count": 1,
   "metadata": {},
   "outputs": [],
   "source": [
    "import numpy as np\n",
    "np.set_printoptions(precision=3)\n",
    "np.random.seed(42)"
   ]
  },
  {
   "cell_type": "code",
   "execution_count": 2,
   "metadata": {},
   "outputs": [],
   "source": [
    "users = 50\n",
    "items = 30\n",
    "features = 10"
   ]
  },
  {
   "cell_type": "markdown",
   "metadata": {},
   "source": [
    "The following matrix $R$ represents our sparse user-item interaction matrix. For simplicity, we're using binary values (0 or 1) to indicate whether a user interacted with an item:"
   ]
  },
  {
   "cell_type": "code",
   "execution_count": 3,
   "metadata": {},
   "outputs": [
    {
     "data": {
      "text/plain": [
       "array([[0, 1, 0, ..., 0, 0, 0],\n",
       "       [0, 0, 0, ..., 0, 0, 0],\n",
       "       [0, 0, 0, ..., 0, 0, 0],\n",
       "       ...,\n",
       "       [0, 0, 0, ..., 0, 0, 0],\n",
       "       [1, 0, 0, ..., 0, 0, 0],\n",
       "       [0, 0, 0, ..., 0, 0, 0]], shape=(50, 30))"
      ]
     },
     "execution_count": 3,
     "metadata": {},
     "output_type": "execute_result"
    }
   ],
   "source": [
    "R = np.random.choice([0, 1], size= [users,items], p=[.9, .1])\n",
    "R"
   ]
  },
  {
   "cell_type": "markdown",
   "metadata": {},
   "source": [
    "Here we initialize our user and item latent factor matrices with random values from a normal distribution. In a real application, we might use different initialization strategies:"
   ]
  },
  {
   "cell_type": "code",
   "execution_count": 4,
   "metadata": {},
   "outputs": [],
   "source": [
    "U = np.random.normal(0,1, [users, features])\n",
    "V = np.random.normal(0,1, [items, features])"
   ]
  },
  {
   "cell_type": "markdown",
   "metadata": {},
   "source": [
    "### **Understanding the ALS Updates**\n",
    "\n",
    "Matrix factorization assumes we approximate \\( R \\) using two lower-rank matrices \\( U \\) and \\( V \\):\n",
    "\n",
    "$$\n",
    "U V^T = R \\quad \\Leftrightarrow \\quad V U^T = R^T\n",
    "$$\n",
    "\n",
    "From this, each row update follows:\n",
    "\n",
    "- **For each row \\( U[i] \\):**  \n",
    "  $$\n",
    "  U[i] V = R[i]\n",
    "  $$\n",
    "  This corresponds to solving the least squares problem[^1]:\n",
    "\n",
    "  $$\n",
    "  U[i] = (V^T V)^{-1} V^T R[i]\n",
    "  $$\n",
    "\n",
    "- **For each row \\( V[i] \\):**  \n",
    "  $$\n",
    "  V[i] U = R[:, i]\n",
    "  $$\n",
    "  Which leads to the least squares update:\n",
    "\n",
    "  $$\n",
    "  V[i] = (U^T U)^{-1} U^T R[:, i]\n",
    "  $$\n",
    "\n",
    "Now, instead of iterating over rows, these updates can be **vectorized** for efficiency and conciseness:\n",
    "\n",
    "- **Solving for \\( U \\) in matrix form:**\n",
    "  $$\n",
    "  U = R V (V^T V)^{-1}\n",
    "  $$\n",
    "\n",
    "- **Solving for \\( V \\) in matrix form:**\n",
    "  $$\n",
    "  V = R^T U (U^T U)^{-1}\n",
    "  $$"
   ]
  },
  {
   "cell_type": "code",
   "execution_count": 5,
   "metadata": {},
   "outputs": [
    {
     "name": "stdout",
     "output_type": "stream",
     "text": [
      "Initial error: 120.4196\n",
      "Error after 1 iteration: 8.3655\n",
      "Final error after 100 iterations: 6.6819\n"
     ]
    }
   ],
   "source": [
    "# Compute initial reconstruction error\n",
    "prev_score = np.linalg.norm(U @ V.T - R)\n",
    "\n",
    "# Store errors for visualization\n",
    "errors = [prev_score]\n",
    "\n",
    "# ALS Iterations\n",
    "num_iterations = 100\n",
    "for iteration in range(num_iterations):\n",
    "    # Without vectorization (per-row computation)\n",
    "    # for i in range(U.shape[0]):\n",
    "    #     U[i] = np.linalg.pinv(V.T @ V) @ V.T @ R[i]  \n",
    "\n",
    "    # Equivalent vectorized form for solving U:\n",
    "    # U = (np.linalg.pinv(V.T @ V) @ V.T @ R.T).T\n",
    "    U = R @ V @ np.linalg.pinv(V.T @ V).T  # Efficient computation\n",
    "\n",
    "    # Without vectorization (per-row computation)\n",
    "    # for i in range(V.shape[0]):\n",
    "    #     V[i] = np.linalg.pinv(U.T @ U) @ U.T @ R[:, i]\n",
    "\n",
    "    # Equivalent vectorized form for solving V:\n",
    "    # V = (np.linalg.pinv(U.T @ U) @ U.T @ R).T\n",
    "    V = R.T @ U @ np.linalg.pinv(U.T @ U).T  # Efficient computation\n",
    "\n",
    "    # Compute and store error after each iteration\n",
    "    errors.append(np.linalg.norm(U @ V.T - R))\n",
    "\n",
    "# Compute final reconstruction error\n",
    "final_score = errors[-1]\n",
    "\n",
    "print(f\"Initial error: {errors[0]:.4f}\")\n",
    "print(f\"Error after 1 iteration: {errors[1]:.4f}\")\n",
    "print(f\"Final error after {num_iterations} iterations: {final_score:.4f}\")"
   ]
  },
  {
   "cell_type": "code",
   "execution_count": 10,
   "metadata": {},
   "outputs": [
    {
     "data": {
      "image/png": "[encoded data removed]",
      "text/plain": [
       "<Figure size 1200x600 with 1 Axes>"
      ]
     },
     "metadata": {},
     "output_type": "display_data"
    }
   ],
   "source": [
    "import matplotlib.pyplot as plt\n",
    "plt.style.use('dark_background')\n",
    "plt.figure(figsize=(12, 6))\n",
    "plt.plot(errors[1:], marker=\"o\", linestyle=\"-\", markersize=3, label=\"Reconstruction Error\") # drop first error since it's a big drop that hides the convergence process\n",
    "plt.xlabel(\"Iteration\")\n",
    "plt.ylabel(\"Error (Frobenius Norm)\")\n",
    "plt.title(\"ALS Error Convergence\")\n",
    "plt.legend()\n",
    "plt.grid()\n",
    "plt.show()\n"
   ]
  },
  {
   "cell_type": "markdown",
   "metadata": {},
   "source": [
    "## Conclusion\n",
    "\n",
    "Alternating Least Squares is a powerful technique for matrix factorization in recommendation systems. The algorithm's key advantage is that it handles the non-convex optimization problem by alternating between convex subproblems, each of which has a closed-form solution.\n",
    "\n",
    "While more advanced techniques like neural collaborative filtering have emerged in recent years, ALS remains relevant for its simplicity, interpretability, and effectiveness, especially for large-scale recommendation tasks."
   ]
  },
  {
   "cell_type": "markdown",
   "metadata": {},
   "source": [
    "### **Additional Considerations**\n",
    "While this implementation presents the core idea of ALS, in practice, a few important modifications are often made:\n",
    "\n",
    "- **Regularization**: To prevent overfitting and improve numerical stability, regularization terms are often added to the update equations:\n",
    "  \n",
    "    $$\n",
    "    U = (V^T V + \\lambda I)^{-1} V^T R\n",
    "    \\quad \\text{and} \\quad\n",
    "    V = (U^T U + \\lambda I)^{-1} U^T R\n",
    "    $$\n",
    "\n",
    "  This helps when the dataset is sparse and avoids **singular matrix issues** in the inversion step.\n",
    "\n",
    "- **Alternatives to ALS**: Another common approach to matrix factorization is **Stochastic Gradient Descent (SGD)**, which iteratively updates each parameter using gradient-based optimization. Unlike ALS, which updates full rows at once, **SGD optimizes individual elements** — making it more suitable for **online learning** but slower for large datasets.\n",
    "\n",
    "These modifications and alternative approaches are worth exploring when adapting ALS to real-world scenarios."
   ]
  },
  {
   "cell_type": "markdown",
   "metadata": {},
   "source": [
    "## References:\n",
    "[^1]: https://mathworld.wolfram.com/NormalEquation.html\n"
   ]
  }
 ],
 "metadata": {
  "kernelspec": {
   "display_name": ".venv",
   "language": "python",
   "name": "python3"
  },
  "language_info": {
   "codemirror_mode": {
    "name": "ipython",
    "version": 3
   },
   "file_extension": ".py",
   "mimetype": "text/x-python",
   "name": "python",
   "nbconvert_exporter": "python",
   "pygments_lexer": "ipython3",
   "version": "3.13.2"
  },
  "orig_nbformat": 4
 },
 "nbformat": 4,
 "nbformat_minor": 2
}
